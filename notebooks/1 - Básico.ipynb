{
 "cells": [
  {
   "cell_type": "code",
   "execution_count": 1,
   "id": "856f0f7e",
   "metadata": {},
   "outputs": [],
   "source": [
    "# biblioteca padrão python para uso de expressão regular\n",
    "import re"
   ]
  },
  {
   "cell_type": "code",
   "execution_count": 9,
   "id": "b937b67d",
   "metadata": {},
   "outputs": [],
   "source": [
    "# operação básica: verificar se uma string satisfaz uma expressão regular\n",
    "# re.fullmatch\n",
    "\n",
    "# esse método retorna um objeto do tipo Match (https://docs.python.org/3/library/re.html#match-objects), \n",
    "#    caso a string passada satisfaça a expressão regular; retorna None, caso contrário\n",
    "\n",
    "# a assinatura é \n",
    "#   re.fullmatch( <expressão regular>, string, flags)\n",
    "#   flags modificam como a expressão regular irá avaliar a string\n",
    "#      por exemplo, há uma flag que indica que o case dos caracteres deve ser ignorado (por exemplo, 'a' e 'A' devem ser considerados equivalentes)\n",
    "\n",
    "re.fullmatch?"
   ]
  },
  {
   "cell_type": "code",
   "execution_count": 14,
   "id": "dc346624",
   "metadata": {},
   "outputs": [
    {
     "data": {
      "text/plain": [
       "True"
      ]
     },
     "execution_count": 14,
     "metadata": {},
     "output_type": "execute_result"
    }
   ],
   "source": [
    "# uma string qualquer é uma expressão regular que captura a si própria apenas\n",
    "#    ! considerando que não contenha caracteres especiais, como '.'\n",
    "\n",
    "expressao = 'abc'\n",
    "\n",
    "# se diferente de None -> a expressão regular reconheceu a string\n",
    "re.fullmatch(expressao, expressao) is not None"
   ]
  },
  {
   "cell_type": "code",
   "execution_count": 16,
   "id": "30d7bfa1",
   "metadata": {},
   "outputs": [],
   "source": [
    "# o diferencial no uso de expressões regulares para identificação de padrões em textos\n",
    "# está nos caracteres/expressões especiais que podemos utilizar para indicar padrões de textos\n",
    "# por exemplo, o caractere '.' (ponto) pode ser utilizar para representar qualquer caractere\n",
    "# isto é, a expressão regular '.' irá reconhecer as strings 'a', '1', 'x', '~' etc\n",
    "\n",
    "# para simplificar os exemplos, vou usar a função abaixo, que recebe uma expressão regular e uma lista de strings\n",
    "# e gera um relatório sobre a aplicação da expressão regular em cada string da lista\n",
    "def testa_re(expressao, strings):\n",
    "    \n",
    "    print(f'Expressão regular: {expressao}')\n",
    "    \n",
    "    for s in strings:\n",
    "        if re.fullmatch(expressao, s):\n",
    "            print(f'{s} -> match')\n",
    "        else:\n",
    "            print(f'{s} -> não match')"
   ]
  },
  {
   "cell_type": "code",
   "execution_count": 23,
   "id": "90f882f2",
   "metadata": {},
   "outputs": [
    {
     "name": "stdout",
     "output_type": "stream",
     "text": [
      "Expressão regular: .\n",
      "a -> match\n",
      "1 -> match\n",
      "x -> match\n",
      "~ -> match\n",
      "12 -> não match\n",
      "a1b -> não match\n"
     ]
    }
   ],
   "source": [
    "lista_strings = ['a', '1', 'x', '~', '12', 'a1b']\n",
    "\n",
    "testa_re('.', lista_strings)"
   ]
  },
  {
   "cell_type": "code",
   "execution_count": 24,
   "id": "c7f79768",
   "metadata": {},
   "outputs": [
    {
     "name": "stdout",
     "output_type": "stream",
     "text": [
      "Expressão regular: .{1,2}\n",
      "a -> match\n",
      "1 -> match\n",
      "x -> match\n",
      "~ -> match\n",
      "12 -> match\n",
      "a1b -> não match\n"
     ]
    }
   ],
   "source": [
    "# veja que a string '12' não foi reconhecida\n",
    "# a expressão regular utilizada é '.', isto é, um e apenas um caractere\n",
    "# '12' possui dois caracteres, portanto não satisfaz a expressão\n",
    "\n",
    "# e se quisermos informar que a string pode ter 1 ou 2 caracteres?\n",
    "# podemos quantificar a expressão regular usando a notação {min,max} após o padrão que queremos quantificar\n",
    "# no exemplo, podemos usar a expressão '.{1,2}' para indicar que aceitamos 1 ou 2 caracteres quaisquer\n",
    "\n",
    "testa_re('.{1,2}', lista_strings)"
   ]
  },
  {
   "cell_type": "code",
   "execution_count": 25,
   "id": "2a88147d",
   "metadata": {},
   "outputs": [
    {
     "name": "stdout",
     "output_type": "stream",
     "text": [
      "Expressão regular: \\d{1,2}\n",
      "a -> não match\n",
      "1 -> match\n",
      "x -> não match\n",
      "~ -> não match\n",
      "12 -> match\n",
      "a1b -> não match\n"
     ]
    }
   ],
   "source": [
    "# há diversos caracteres especiais, que podem ser estudados em https://docs.python.org/3/library/re.html#regular-expression-syntax\n",
    "# alguns exemplos\n",
    "\n",
    "# \\d -> reconhece um dígito\n",
    "testa_re('\\d{1,2}', lista_strings)"
   ]
  },
  {
   "cell_type": "code",
   "execution_count": 26,
   "id": "3de51d4d",
   "metadata": {},
   "outputs": [
    {
     "name": "stdout",
     "output_type": "stream",
     "text": [
      "Expressão regular: \\w{1,2}\n",
      "a -> match\n",
      "1 -> match\n",
      "x -> match\n",
      "~ -> não match\n",
      "12 -> match\n",
      "a1b -> não match\n"
     ]
    }
   ],
   "source": [
    "# \\w -> reconhece caracteres que são parte de texto\n",
    "testa_re('\\w{1,2}', lista_strings)"
   ]
  },
  {
   "cell_type": "code",
   "execution_count": 30,
   "id": "fcddb2cf",
   "metadata": {},
   "outputs": [
    {
     "name": "stdout",
     "output_type": "stream",
     "text": [
      "Expressão regular: \\d*\n",
      "a -> não match\n",
      "1 -> match\n",
      "x -> não match\n",
      "~ -> não match\n",
      "12 -> match\n",
      "a1b -> não match\n"
     ]
    }
   ],
   "source": [
    "# * -> quantificador que indica que deve haver 0 ou mais ocorrências do padrão\n",
    "# mesmo que {0,}\n",
    "#    ver que o max em {min,max} não foi especificado -> indica que não há limite máximo\n",
    "\n",
    "testa_re('\\d*', lista_strings)"
   ]
  },
  {
   "cell_type": "code",
   "execution_count": 31,
   "id": "8b7dbfd5",
   "metadata": {},
   "outputs": [
    {
     "name": "stdout",
     "output_type": "stream",
     "text": [
      "Expressão regular: \\d+\n",
      "a -> não match\n",
      "1 -> match\n",
      "x -> não match\n",
      "~ -> não match\n",
      "12 -> match\n",
      "a1b -> não match\n"
     ]
    }
   ],
   "source": [
    "# + -> quantificador que indica que deve haver 1 ou mais ocorrências do padrão\n",
    "# mesmo que {1,}\n",
    "\n",
    "testa_re('\\d+', lista_strings)"
   ]
  },
  {
   "cell_type": "code",
   "execution_count": 32,
   "id": "d19b31fb",
   "metadata": {},
   "outputs": [
    {
     "name": "stdout",
     "output_type": "stream",
     "text": [
      "Expressão regular: \\d?\n",
      "a -> não match\n",
      "1 -> match\n",
      "x -> não match\n",
      "~ -> não match\n",
      "12 -> não match\n",
      "a1b -> não match\n"
     ]
    }
   ],
   "source": [
    "# ? -> quantificador que indica que deve haver 0 ou 1 ocorrência do padrão\n",
    "# mesmo que {0,1}\n",
    "\n",
    "testa_re('\\d?', lista_strings)"
   ]
  },
  {
   "cell_type": "code",
   "execution_count": 33,
   "id": "ae1f79e8",
   "metadata": {},
   "outputs": [
    {
     "name": "stdout",
     "output_type": "stream",
     "text": [
      "Expressão regular: \\d|\\w\n",
      "a -> match\n",
      "1 -> match\n",
      "x -> match\n",
      "~ -> não match\n",
      "12 -> não match\n",
      "a1b -> não match\n"
     ]
    }
   ],
   "source": [
    "# | -> operador que indica que pode ser reconhecido ou o padrão da esquerda ou o da direita\n",
    "# ex: a|b -> reconhece o caractere 'a' ou o caractere 'b', mas apenas um\n",
    "\n",
    "testa_re('\\d|\\w', lista_strings)"
   ]
  },
  {
   "cell_type": "code",
   "execution_count": 37,
   "id": "da107183",
   "metadata": {},
   "outputs": [
    {
     "data": {
      "text/plain": [
       "['123', '12', '908', '889']"
      ]
     },
     "execution_count": 37,
     "metadata": {},
     "output_type": "execute_result"
    }
   ],
   "source": [
    "# além da operação de match, expressões regulares podem ser utilizadas para outras operações, como\n",
    "\n",
    "# busca de substrings\n",
    "\n",
    "re.findall('\\d{2,3}', 'aa1234b 12 908x8y889')"
   ]
  },
  {
   "cell_type": "code",
   "execution_count": 40,
   "id": "bebc85e8",
   "metadata": {},
   "outputs": [
    {
     "data": {
      "text/plain": [
       "'Há <NÚMERO> coelhos nas <NÚMERO> cartolas'"
      ]
     },
     "execution_count": 40,
     "metadata": {},
     "output_type": "execute_result"
    }
   ],
   "source": [
    "# substituição de substring\n",
    "\n",
    "re.sub('\\d', '<NÚMERO>', 'Há 5 coelhos nas 2 cartolas')"
   ]
  },
  {
   "cell_type": "code",
   "execution_count": 41,
   "id": "22223d03",
   "metadata": {},
   "outputs": [
    {
     "data": {
      "text/plain": [
       "['Há ', ' coelhos nas ', ' cartolas']"
      ]
     },
     "execution_count": 41,
     "metadata": {},
     "output_type": "execute_result"
    }
   ],
   "source": [
    "# separar texto\n",
    "\n",
    "re.split('\\d', 'Há 5 coelhos nas 2 cartolas')"
   ]
  },
  {
   "cell_type": "code",
   "execution_count": 72,
   "id": "65c45c4a",
   "metadata": {},
   "outputs": [
    {
     "name": "stdout",
     "output_type": "stream",
     "text": [
      "Art. 10 - A constituição etc\n",
      "Tipo: ['tipo_artigo']\n",
      "Número: 10\n",
      "\n",
      "Art. 3 - As leis devem etc\n",
      "Tipo: ['tipo_artigo']\n",
      "Número: 3\n",
      "\n",
      "Parágrafo 123 - \n",
      "Tipo: ['tipo_parágrafo']\n",
      "Número: 123\n",
      "\n"
     ]
    }
   ],
   "source": [
    "# as strings capturadas podem ser associadas a labels (exemplo mais complexo, só para exemplo)\n",
    "\n",
    "expressao = r'^((?P<tipo_artigo>Art\\.\\ )|(?P<tipo_parágrafo>Parágrafo\\ ))(?P<número>\\d+).*'\n",
    "\n",
    "lista = [\n",
    "    'Art. 10 - A constituição etc',\n",
    "    'Art. 3 - As leis devem etc',\n",
    "    'Parágrafo 123 - '\n",
    "]\n",
    "\n",
    "for s in lista:\n",
    "    m = re.match(expressao, s)\n",
    "    \n",
    "    groupdict = m.groupdict()\n",
    "    \n",
    "    tipo = [k for k,v in groupdict.items() if k.startswith('tipo_') and v]\n",
    "    numero = groupdict['número']\n",
    "    \n",
    "    print(s)\n",
    "    \n",
    "    print(f'Tipo: {tipo}\\nNúmero: {numero}\\n')"
   ]
  },
  {
   "cell_type": "code",
   "execution_count": null,
   "id": "659ad85b",
   "metadata": {},
   "outputs": [],
   "source": [
    "# o ideal para estudar regex é fazer muitos exercícios e consultar a documentação\n",
    "\n",
    "# por exemplo: https://www.hackerrank.com/domains/regex"
   ]
  }
 ],
 "metadata": {
  "kernelspec": {
   "display_name": "Python 3 (ipykernel)",
   "language": "python",
   "name": "python3"
  },
  "language_info": {
   "codemirror_mode": {
    "name": "ipython",
    "version": 3
   },
   "file_extension": ".py",
   "mimetype": "text/x-python",
   "name": "python",
   "nbconvert_exporter": "python",
   "pygments_lexer": "ipython3",
   "version": "3.8.10"
  }
 },
 "nbformat": 4,
 "nbformat_minor": 5
}
